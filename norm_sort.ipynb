{
 "cells": [
  {
   "cell_type": "code",
   "execution_count": 4,
   "id": "0012e2dc-4bc4-4b65-95e0-f0d65044b638",
   "metadata": {},
   "outputs": [],
   "source": [
    "import numpy as np \n",
    "import matplotlib.pyplot as plt\n",
    "%matplotlib inline \n",
    "%config InlineBackend.figure_format = 'svg'\n",
    "import seaborn as sns"
   ]
  },
  {
   "cell_type": "code",
   "execution_count": 7,
   "id": "9e8047ac-239e-451b-9891-8f48fc4b8569",
   "metadata": {},
   "outputs": [],
   "source": [
    "import numpy as np\n",
    "import matplotlib.pyplot as plt\n",
    "\n",
    "class Airnorm:\n",
    "    def __init__(self, name: str, x_coord, y_coord):\n",
    "        # Ensure inputs are numpy arrays\n",
    "        self.name = name\n",
    "        self.x = np.array(x_coord)\n",
    "        self.y = np.array(y_coord)\n",
    "\n",
    "        # Basic checks\n",
    "        assert not np.isnan(self.x).any(), \"x coordinates contain NaNs\"\n",
    "        assert not np.isnan(self.y).any(), \"y coordinates contain NaNs\"\n",
    "        assert len(self.x) == len(self.y), \"x and y must have same number of points\"\n",
    "\n",
    "    def display_info(self):\n",
    "        print(f\"Airfoil name: {self.name}, Number of points: {len(self.x)}\")\n",
    "\n",
    "    def normalize(self):\n",
    "        \"\"\"Normalize x coordinates from 0 to 1, and center y about 0\"\"\"\n",
    "        x_min = np.min(self.x)\n",
    "        x_max = np.max(self.x)\n",
    "        self.x = (self.x - x_min) / (x_max - x_min)\n",
    "        self.y = self.y - np.mean(self.y)\n",
    "\n",
    "    def sort(self):\n",
    "        \"\"\"Greedy KNN-like sort to reorder the airfoil coordinates\"\"\"\n",
    "        coords = np.column_stack((self.x, self.y))\n",
    "        sorted_coords = [coords[0]]\n",
    "        used = set([0])\n",
    "\n",
    "        for _ in range(1, len(coords)):\n",
    "            last = sorted_coords[-1]\n",
    "            dists = np.linalg.norm(coords - last, axis=1)\n",
    "            for i in np.argsort(dists):\n",
    "                if i not in used:\n",
    "                    sorted_coords.append(coords[i])\n",
    "                    used.add(i)\n",
    "                    break\n",
    "\n",
    "        sorted_coords = np.array(sorted_coords)\n",
    "        self.x, self.y = sorted_coords[:, 0], sorted_coords[:, 1]\n",
    "\n",
    "    def plot(self):\n",
    "        plt.plot(self.x, self.y, linewidth=1.2, marker='o', label=f\"{self.name}\")\n",
    "        plt.xlabel(\"x coordinates\")\n",
    "        plt.ylabel(\"y coordinates\")\n",
    "        plt.grid()\n",
    "        plt.legend()\n",
    "        plt.title(f\"Line plot of {self.name} airfoil\")\n",
    "        plt.axis(\"equal\")\n",
    "        plt.show()\n"
   ]
  },
  {
   "cell_type": "code",
   "execution_count": null,
   "id": "7f73a7d9-3060-460d-9bb9-9efc1c4f6e5c",
   "metadata": {},
   "outputs": [],
   "source": []
  }
 ],
 "metadata": {
  "kernelspec": {
   "display_name": "Python 3 (ipykernel)",
   "language": "python",
   "name": "python3"
  },
  "language_info": {
   "codemirror_mode": {
    "name": "ipython",
    "version": 3
   },
   "file_extension": ".py",
   "mimetype": "text/x-python",
   "name": "python",
   "nbconvert_exporter": "python",
   "pygments_lexer": "ipython3",
   "version": "3.12.7"
  }
 },
 "nbformat": 4,
 "nbformat_minor": 5
}
